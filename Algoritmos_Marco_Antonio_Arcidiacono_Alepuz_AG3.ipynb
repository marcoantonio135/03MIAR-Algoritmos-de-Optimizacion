{
 "cells": [
  {
   "cell_type": "markdown",
   "metadata": {
    "id": "LeLk_Qn4Rmqr"
   },
   "source": [
    "# Actividad Guiada 3\n",
    "\n",
    "# Marco Antonio Arcidiacono Alepuz\n",
    "\n",
    "Problema del agente viajero y parte extra\n",
    "\n",
    "https://github.com/marcoantonio135/03MIAR-Algoritmos-de-Optimizacion"
   ]
  },
  {
   "cell_type": "markdown",
   "metadata": {
    "id": "m-gbxt9BFfdN"
   },
   "source": [
    "## Carga de librerias"
   ]
  },
  {
   "cell_type": "code",
   "execution_count": 10,
   "metadata": {
    "colab": {
     "base_uri": "https://localhost:8080/"
    },
    "id": "qP-Y3Gkfc4vn",
    "outputId": "4d765f68-5943-4900-d8b4-958fb8cfcdd9"
   },
   "outputs": [
    {
     "name": "stdout",
     "output_type": "stream",
     "text": [
      "Requirement already satisfied: requests in /usr/local/lib/python3.10/dist-packages (2.27.1)\n",
      "Requirement already satisfied: urllib3<1.27,>=1.21.1 in /usr/local/lib/python3.10/dist-packages (from requests) (1.26.16)\n",
      "Requirement already satisfied: certifi>=2017.4.17 in /usr/local/lib/python3.10/dist-packages (from requests) (2023.5.7)\n",
      "Requirement already satisfied: charset-normalizer~=2.0.0 in /usr/local/lib/python3.10/dist-packages (from requests) (2.0.12)\n",
      "Requirement already satisfied: idna<4,>=2.5 in /usr/local/lib/python3.10/dist-packages (from requests) (3.4)\n",
      "Requirement already satisfied: tsplib95 in /usr/local/lib/python3.10/dist-packages (0.7.1)\n",
      "Requirement already satisfied: Click>=6.0 in /usr/local/lib/python3.10/dist-packages (from tsplib95) (8.1.3)\n",
      "Requirement already satisfied: Deprecated~=1.2.9 in /usr/local/lib/python3.10/dist-packages (from tsplib95) (1.2.14)\n",
      "Requirement already satisfied: networkx~=2.1 in /usr/local/lib/python3.10/dist-packages (from tsplib95) (2.8.8)\n",
      "Requirement already satisfied: tabulate~=0.8.7 in /usr/local/lib/python3.10/dist-packages (from tsplib95) (0.8.10)\n",
      "Requirement already satisfied: wrapt<2,>=1.10 in /usr/local/lib/python3.10/dist-packages (from Deprecated~=1.2.9->tsplib95) (1.14.1)\n"
     ]
    }
   ],
   "source": [
    "!pip install requests    #Hacer llamadas http a paginas de la red\n",
    "!pip install tsplib95    #Modulo para las instancias del problema del TSP"
   ]
  },
  {
   "cell_type": "markdown",
   "metadata": {
    "id": "nHRiJhTnFmuV"
   },
   "source": [
    "## Carga de los datos del problema"
   ]
  },
  {
   "cell_type": "code",
   "execution_count": 11,
   "metadata": {
    "colab": {
     "base_uri": "https://localhost:8080/"
    },
    "id": "mnA47nhtdKOc",
    "outputId": "4d2f8050-64f7-4b6e-b050-f5e8c879f752"
   },
   "outputs": [
    {
     "name": "stdout",
     "output_type": "stream",
     "text": [
      "gzip: swiss42.tsp already exists; do you wish to overwrite (y or n)? y\n"
     ]
    }
   ],
   "source": [
    "import urllib.request #Hacer llamadas http a paginas de la red\n",
    "import tsplib95       #Modulo para las instancias del problema del TSP\n",
    "import math           #Modulo de funciones matematicas. Se usa para exp\n",
    "import random                     #Para generar valores aleatorios\n",
    "\n",
    "#Descargamos el fichero de datos(Matriz de distancias)\n",
    "file = \"swiss42.tsp\" ;\n",
    "urllib.request.urlretrieve(\"http://comopt.ifi.uni-heidelberg.de/software/TSPLIB95/tsp/swiss42.tsp.gz\", file + '.gz')\n",
    "!gzip -d swiss42.tsp.gz     #Descomprimir el fichero de datos\n",
    "\n"
   ]
  },
  {
   "cell_type": "code",
   "execution_count": 12,
   "metadata": {
    "id": "RIXYkDWcfmwd"
   },
   "outputs": [],
   "source": [
    "#Carga de datos y generación de objeto problem\n",
    "###############################################################################\n",
    "problem = tsplib95.load(file)\n",
    "\n",
    "#Nodos\n",
    "Nodos = list(problem.get_nodes())\n",
    "\n",
    "#Aristas\n",
    "Aristas = list(problem.get_edges())\n",
    "\n"
   ]
  },
  {
   "cell_type": "code",
   "execution_count": 13,
   "metadata": {
    "colab": {
     "base_uri": "https://localhost:8080/"
    },
    "id": "a7bTofSnn_Jt",
    "outputId": "6dd48fa9-0eb5-4425-95ee-d9cc116463eb"
   },
   "outputs": [
    {
     "data": {
      "text/plain": [
       "15"
      ]
     },
     "execution_count": 13,
     "metadata": {},
     "output_type": "execute_result"
    }
   ],
   "source": [
    "#Probamos algunas funciones del objeto problem\n",
    "\n",
    "#Distancia entre nodos\n",
    "problem.get_weight(0, 1)\n",
    "\n",
    "#Todas las funciones\n",
    "#Documentación: https://tsplib95.readthedocs.io/en/v0.6.1/modules.html\n",
    "\n",
    "#dir(problem)"
   ]
  },
  {
   "cell_type": "markdown",
   "metadata": {
    "id": "BpwtaRQIFYvO"
   },
   "source": [
    "## Funcionas basicas\n"
   ]
  },
  {
   "cell_type": "code",
   "execution_count": 14,
   "metadata": {
    "id": "tzrkaBS3gmmz"
   },
   "outputs": [],
   "source": [
    "\n",
    "#Funcionas basicas\n",
    "###############################################################################\n",
    "\n",
    "#Se genera una solucion aleatoria con comienzo en en el nodo 0\n",
    "def crear_solucion(Nodos):\n",
    "  solucion = [Nodos[0]]\n",
    "  for n in Nodos[1:]:\n",
    "    solucion = solucion + [random.choice(list(set(Nodos) - set({Nodos[0]}) - set(solucion)))]\n",
    "  return solucion\n",
    "\n",
    "#Devuelve la distancia entre dos nodos\n",
    "def distancia(a,b, problem):\n",
    "  return problem.get_weight(a,b)\n",
    "\n",
    "#Devuelve la distancia total de una trayectoria/solucion\n",
    "def distancia_total(solucion, problem):\n",
    "  distancia_total = 0\n",
    "  for i in range(len(solucion)-1):\n",
    "    distancia_total += distancia(solucion[i] ,solucion[i+1] ,  problem)\n",
    "  return distancia_total + distancia(solucion[len(solucion)-1] ,solucion[0], problem)\n",
    "\n",
    "\n"
   ]
  },
  {
   "cell_type": "markdown",
   "metadata": {
    "id": "zfwRoUPDYVTr"
   },
   "source": [
    "## BUSQUEDA ALEATORIA"
   ]
  },
  {
   "cell_type": "code",
   "execution_count": 15,
   "metadata": {
    "colab": {
     "base_uri": "https://localhost:8080/"
    },
    "id": "U7FEJ5OHG2vl",
    "outputId": "a12cc74a-f30f-4b83-dd39-309aacc3c6f5"
   },
   "outputs": [
    {
     "name": "stdout",
     "output_type": "stream",
     "text": [
      "Mejor solución: [0, 23, 24, 22, 40, 8, 17, 31, 32, 29, 26, 35, 16, 14, 36, 15, 13, 6, 30, 5, 1, 3, 18, 25, 12, 21, 20, 34, 33, 41, 10, 9, 11, 38, 37, 39, 27, 4, 19, 7, 28, 2]\n",
      "Distancia     : 3687\n"
     ]
    }
   ],
   "source": [
    "###############################################################################\n",
    "# BUSQUEDA ALEATORIA\n",
    "###############################################################################\n",
    "\n",
    "def busqueda_aleatoria(problem, N):\n",
    "  #N es el numero de iteraciones\n",
    "  Nodos = list(problem.get_nodes())\n",
    "\n",
    "  mejor_solucion = []\n",
    "  #mejor_distancia = 10e100                         #Inicializamos con un valor alto\n",
    "  mejor_distancia = float('inf')                    #Inicializamos con un valor alto\n",
    "\n",
    "  for i in range(N):                                #Criterio de parada: repetir N veces pero podemos incluir otros\n",
    "    solucion = crear_solucion(Nodos)                #Genera una solucion aleatoria\n",
    "    distancia = distancia_total(solucion, problem)  #Calcula el valor objetivo(distancia total)\n",
    "\n",
    "    if distancia < mejor_distancia:                 #Compara con la mejor obtenida hasta ahora\n",
    "      mejor_solucion = solucion\n",
    "      mejor_distancia = distancia\n",
    "\n",
    "\n",
    "  print(\"Mejor solución:\" , mejor_solucion)\n",
    "  print(\"Distancia     :\" , mejor_distancia)\n",
    "  return mejor_solucion\n",
    "\n",
    "\n",
    "#Busqueda aleatoria con 5000 iteraciones\n",
    "solucion = busqueda_aleatoria(problem, 10000)"
   ]
  },
  {
   "cell_type": "markdown",
   "metadata": {
    "id": "gxyEjqm8YZIk"
   },
   "source": [
    "## BUSQUEDA LOCAL"
   ]
  },
  {
   "cell_type": "code",
   "execution_count": 16,
   "metadata": {
    "colab": {
     "base_uri": "https://localhost:8080/"
    },
    "id": "sOo-N3yIX7bp",
    "outputId": "4544ffae-402d-4b77-9ab0-fe70bf44e7c6"
   },
   "outputs": [
    {
     "name": "stdout",
     "output_type": "stream",
     "text": [
      "Distancia Solucion Incial: 3687\n",
      "Distancia Mejor Solucion Local: 3335\n"
     ]
    }
   ],
   "source": [
    "###############################################################################\n",
    "# BUSQUEDA LOCAL\n",
    "###############################################################################\n",
    "def genera_vecina(solucion):\n",
    "  #Generador de soluciones vecinas: 2-opt (intercambiar 2 nodos) Si hay N nodos se generan (N-1)x(N-2)/2 soluciones\n",
    "  #Se puede modificar para aplicar otros generadores distintos que 2-opt\n",
    "  #print(solucion)\n",
    "  mejor_solucion = []\n",
    "  mejor_distancia = 10e100\n",
    "  for i in range(1,len(solucion)-1):          #Recorremos todos los nodos en bucle doble para evaluar todos los intercambios 2-opt\n",
    "    for j in range(i+1, len(solucion)):\n",
    "\n",
    "      #Se genera una nueva solución intercambiando los dos nodos i,j:\n",
    "      #  (usamos el operador + que para listas en python las concatena) : ej.: [1,2] + [3] = [1,2,3]\n",
    "      vecina = solucion[:i] + [solucion[j]] + solucion[i+1:j] + [solucion[i]] + solucion[j+1:]\n",
    "\n",
    "      #Se evalua la nueva solución ...\n",
    "      distancia_vecina = distancia_total(vecina, problem)\n",
    "\n",
    "      #... para guardarla si mejora las anteriores\n",
    "      if distancia_vecina <= mejor_distancia:\n",
    "        mejor_distancia = distancia_vecina\n",
    "        mejor_solucion = vecina\n",
    "  return mejor_solucion\n",
    "\n",
    "\n",
    "#solucion = [1, 47, 13, 41, 40, 19, 42, 44, 37, 5, 22, 28, 3, 2, 29, 21, 50, 34, 30, 9, 16, 11, 38, 49, 10, 39, 33, 45, 15, 24, 43, 26, 31, 36, 35, 20, 8, 7, 23, 48, 27, 12, 17, 4, 18, 25, 14, 6, 51, 46, 32]\n",
    "print(\"Distancia Solucion Incial:\" , distancia_total(solucion, problem))\n",
    "\n",
    "\n",
    "nueva_solucion = genera_vecina(solucion)\n",
    "print(\"Distancia Mejor Solucion Local:\", distancia_total(nueva_solucion, problem))\n"
   ]
  },
  {
   "cell_type": "code",
   "execution_count": 17,
   "metadata": {
    "colab": {
     "base_uri": "https://localhost:8080/"
    },
    "id": "2DKvldWcYOU9",
    "outputId": "22488b24-b5cd-440e-9680-0e3989a35d47"
   },
   "outputs": [
    {
     "name": "stdout",
     "output_type": "stream",
     "text": [
      "En la iteracion  37 , la mejor solución encontrada es: [0, 18, 12, 11, 25, 10, 8, 9, 21, 23, 41, 29, 28, 27, 32, 30, 38, 22, 39, 24, 40, 26, 5, 14, 16, 15, 37, 7, 17, 36, 35, 31, 20, 33, 34, 19, 13, 6, 4, 2, 3, 1]\n",
      "Distancia     : 1775\n"
     ]
    }
   ],
   "source": [
    "#Busqueda Local:\n",
    "#  - Sobre el operador de vecindad 2-opt(funcion genera_vecina)\n",
    "#  - Sin criterio de parada, se para cuando no es posible mejorar.\n",
    "def busqueda_local(problem):\n",
    "  mejor_solucion = []\n",
    "\n",
    "  #Generar una solucion inicial de referencia(aleatoria)\n",
    "  solucion_referencia = crear_solucion(Nodos)\n",
    "  mejor_distancia = distancia_total(solucion_referencia, problem)\n",
    "\n",
    "  iteracion=0             #Un contador para saber las iteraciones que hacemos\n",
    "  while(1):\n",
    "    iteracion +=1         #Incrementamos el contador\n",
    "    #print('#',iteracion)\n",
    "\n",
    "    #Obtenemos la mejor vecina ...\n",
    "    vecina = genera_vecina(solucion_referencia)\n",
    "\n",
    "    #... y la evaluamos para ver si mejoramos respecto a lo encontrado hasta el momento\n",
    "    distancia_vecina = distancia_total(vecina, problem)\n",
    "\n",
    "    #Si no mejoramos hay que terminar. Hemos llegado a un minimo local(según nuestro operador de vencindad 2-opt)\n",
    "    if distancia_vecina < mejor_distancia:\n",
    "      #mejor_solucion = copy.deepcopy(vecina)   #Con copia profunda. Las copias en python son por referencia\n",
    "      mejor_solucion = vecina                   #Guarda la mejor solución encontrada\n",
    "      mejor_distancia = distancia_vecina\n",
    "\n",
    "    else:\n",
    "      print(\"En la iteracion \", iteracion, \", la mejor solución encontrada es:\" , mejor_solucion)\n",
    "      print(\"Distancia     :\" , mejor_distancia)\n",
    "      return mejor_solucion\n",
    "\n",
    "    solucion_referencia = vecina\n",
    "\n",
    "\n",
    "sol = busqueda_local(problem )"
   ]
  },
  {
   "cell_type": "markdown",
   "metadata": {
    "id": "37AcKJBISjX-"
   },
   "source": [
    "### Parte extra"
   ]
  },
  {
   "cell_type": "code",
   "execution_count": 26,
   "metadata": {
    "colab": {
     "base_uri": "https://localhost:8080/"
    },
    "id": "8xXCsAvoSqKy",
    "outputId": "04fc7271-ce6f-42be-f1f1-e9a3bbf46dc8"
   },
   "outputs": [
    {
     "name": "stdout",
     "output_type": "stream",
     "text": [
      "En la iteracion  28 , la mejor solución encontrada es: [0, 27, 2, 3, 4, 10, 25, 41, 23, 9, 22, 38, 29, 8, 11, 12, 18, 14, 16, 15, 36, 35, 33, 20, 31, 17, 37, 7, 1, 32, 34, 24, 40, 21, 39, 30, 28, 26, 5, 13, 19, 6] para el arranque: 5\n",
      "Distancia     : 1843\n",
      "En la iteracion  31 , la mejor solución encontrada es: [0, 41, 23, 21, 39, 31, 17, 36, 35, 20, 30, 29, 28, 27, 2, 8, 9, 40, 24, 22, 38, 33, 34, 32, 11, 12, 18, 26, 5, 14, 15, 16, 19, 13, 25, 10, 6, 37, 7, 1, 4, 3] para el arranque: 7\n",
      "Distancia     : 2057\n",
      "En la iteracion  34 , la mejor solución encontrada es: [0, 3, 27, 2, 8, 9, 22, 38, 34, 33, 20, 35, 36, 31, 17, 1, 12, 11, 25, 41, 23, 40, 24, 21, 39, 28, 4, 6, 26, 18, 10, 29, 30, 32, 7, 37, 15, 16, 14, 19, 13, 5] para el arranque: 0\n",
      "Distancia     : 1676\n",
      "En la iteracion  35 , la mejor solución encontrada es: [0, 32, 28, 2, 27, 3, 4, 6, 26, 5, 14, 19, 13, 18, 29, 24, 40, 21, 23, 41, 10, 1, 7, 31, 35, 36, 16, 15, 37, 17, 20, 33, 34, 12, 11, 25, 8, 9, 39, 22, 38, 30] para el arranque: 9\n",
      "Distancia     : 1879\n",
      "En la iteracion  36 , la mejor solución encontrada es: [0, 3, 2, 27, 28, 10, 8, 9, 22, 38, 33, 34, 30, 29, 39, 21, 24, 40, 23, 41, 25, 11, 12, 18, 26, 5, 6, 32, 20, 35, 36, 37, 15, 16, 14, 19, 13, 7, 17, 31, 1, 4] para el arranque: 6\n",
      "Distancia     : 1640\n",
      "En la iteracion  38 , la mejor solución encontrada es: [0, 1, 6, 26, 18, 4, 2, 27, 28, 30, 34, 33, 20, 35, 36, 37, 15, 16, 14, 19, 13, 5, 3, 32, 31, 17, 7, 8, 10, 12, 11, 25, 41, 23, 9, 40, 24, 21, 39, 22, 38, 29] para el arranque: 3\n",
      "Distancia     : 1606\n",
      "En la iteracion  40 , la mejor solución encontrada es: [0, 1, 5, 13, 19, 14, 16, 15, 36, 35, 20, 33, 34, 32, 28, 29, 8, 40, 24, 30, 17, 31, 38, 22, 39, 21, 9, 23, 41, 10, 25, 11, 12, 18, 26, 6, 4, 2, 27, 3, 7, 37] para el arranque: 4\n",
      "Distancia     : 1778\n",
      "En la iteracion  42 , la mejor solución encontrada es: [0, 1, 6, 5, 26, 18, 10, 9, 21, 40, 24, 34, 33, 20, 32, 28, 30, 38, 22, 39, 29, 2, 27, 3, 4, 14, 15, 16, 13, 19, 37, 36, 35, 31, 17, 7, 12, 11, 25, 41, 23, 8] para el arranque: 1\n",
      "Distancia     : 1815\n",
      "En la iteracion  43 , la mejor solución encontrada es: [0, 7, 37, 15, 16, 14, 1, 32, 30, 39, 24, 40, 21, 9, 8, 23, 41, 10, 29, 28, 2, 27, 3, 4, 6, 19, 13, 5, 26, 18, 12, 11, 25, 22, 38, 34, 33, 20, 35, 36, 17, 31] para el arranque: 2\n",
      "Distancia     : 1609\n",
      "En la iteracion  43 , la mejor solución encontrada es: [0, 5, 26, 18, 12, 11, 25, 10, 41, 23, 8, 9, 39, 22, 38, 30, 29, 28, 32, 34, 20, 31, 17, 27, 2, 1, 7, 37, 36, 35, 33, 21, 24, 40, 13, 19, 16, 15, 14, 6, 4, 3] para el arranque: 8\n",
      "Distancia     : 1859\n",
      "La mejor solución encontrada es: [0, 1, 6, 26, 18, 4, 2, 27, 28, 30, 34, 33, 20, 35, 36, 37, 15, 16, 14, 19, 13, 5, 3, 32, 31, 17, 7, 8, 10, 12, 11, 25, 41, 23, 9, 40, 24, 21, 39, 22, 38, 29]\n",
      "Distancia     : 1606\n"
     ]
    }
   ],
   "source": [
    "def busqueda_local_multiarranque(problem):\n",
    "  arranques = 10 #número de arranques\n",
    "  mejores_soluciones = [[] for i in range(arranques)]\n",
    "  solucion_referencia = [crear_solucion(Nodos) for i in range(arranques)]\n",
    "  mejores_distancias = [distancia_total(solucion_referencia[i], problem) for i in range(arranques)]\n",
    "  encontrado =  [False for i in range(arranques)]\n",
    "\n",
    "  iteracion=0             #Un contador para saber las iteraciones que hacemos\n",
    "  while(1):\n",
    "    iteracion +=1         #Incrementamos el contador\n",
    "    #print('#',iteracion)\n",
    "\n",
    "    #Obtenemos la mejor vecina ...\n",
    "    vecinas = [genera_vecina(solucion_referencia[i]) for i in range(arranques)]\n",
    "    distancias_vecinas = [distancia_total(vecinas[i], problem) for i in range(arranques)]\n",
    "    acabar = True\n",
    "    for i in range(arranques):\n",
    "      if (encontrado[i]==False):\n",
    "        acabar = False\n",
    "        #vecinas[i] = genera_vecina(solucion_referencia[i])\n",
    "        #print(vecinas)\n",
    "        #... y la evaluamos para ver si mejoramos respecto a lo encontrado hasta el momento\n",
    "        #distancias_vecinas = distancias_vecinas + distancia_total(vecinas[i], problem)\n",
    "\n",
    "        #Si no mejoramos hay que terminar. Hemos llegado a un minimo local(según nuestro operador de vencindad 2-opt)\n",
    "        if distancias_vecinas[i] < mejores_distancias[i]:\n",
    "          #mejor_solucion = copy.deepcopy(vecina)   #Con copia profunda. Las copias en python son por referencia\n",
    "          mejores_soluciones[i] = vecinas[i]                   #Guarda la mejor solución encontrada\n",
    "          mejores_distancias[i] = distancias_vecinas[i]\n",
    "\n",
    "        else:\n",
    "          encontrado[i] = True\n",
    "          print(\"En la iteracion \", iteracion, \", la mejor solución encontrada es:\" , mejores_soluciones[i], \"para el arranque:\" , i)\n",
    "          print(\"Distancia     :\" , mejores_distancias[i])\n",
    "          #return mejor_solucion\n",
    "\n",
    "        solucion_referencia[i] = vecinas[i]\n",
    "    if (acabar == True):\n",
    "      mejor_sol = mejores_soluciones[0]\n",
    "      mejor_dist = mejores_distancias[0]\n",
    "      for i in range(1, arranques):\n",
    "        if mejores_distancias[i] < mejor_dist:\n",
    "          mejor_sol = mejores_soluciones[i]\n",
    "          mejor_dist = mejores_distancias[i]\n",
    "\n",
    "      print(\"La mejor solución encontrada es:\" , mejor_sol)\n",
    "      print(\"Distancia     :\" , mejor_dist)\n",
    "      return mejor_sol\n",
    "\n",
    "\n",
    "\n",
    "\n",
    "\n",
    "sol = busqueda_local_multiarranque(problem )"
   ]
  }
 ],
 "metadata": {
  "colab": {
   "provenance": []
  },
  "kernelspec": {
   "display_name": "Python 3 (ipykernel)",
   "language": "python",
   "name": "python3"
  },
  "language_info": {
   "codemirror_mode": {
    "name": "ipython",
    "version": 3
   },
   "file_extension": ".py",
   "mimetype": "text/x-python",
   "name": "python",
   "nbconvert_exporter": "python",
   "pygments_lexer": "ipython3",
   "version": "3.11.0"
  }
 },
 "nbformat": 4,
 "nbformat_minor": 1
}
