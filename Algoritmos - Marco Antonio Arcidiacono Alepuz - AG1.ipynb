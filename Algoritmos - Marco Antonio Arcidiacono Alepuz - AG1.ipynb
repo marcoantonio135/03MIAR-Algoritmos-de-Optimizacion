{
 "cells": [
  {
   "cell_type": "markdown",
   "id": "a015e9f8",
   "metadata": {},
   "source": [
    "# Actividad Guiada 1\n",
    "\n",
    "# Marco Antonio Arcidiacono Alepuz\n",
    "\n",
    "https://github.com/marcoantonio135/03MIAR-Algoritmos-de-Optimizacion"
   ]
  },
  {
   "cell_type": "code",
   "execution_count": 4,
   "id": "0fc0940f",
   "metadata": {},
   "outputs": [
    {
     "name": "stdout",
     "output_type": "stream",
     "text": [
      "Mover bloque desde 1 a 2\n",
      "Mover bloque desde 1 a 3\n",
      "Mover bloque desde 2 a 3\n",
      "Mover bloque desde 1 a 2\n",
      "Mover bloque desde 3 a 1\n",
      "Mover bloque desde 3 a 2\n",
      "Mover bloque desde 1 a 2\n",
      "Mover bloque desde 1 a 3\n",
      "Mover bloque desde 2 a 3\n",
      "Mover bloque desde 2 a 1\n",
      "Mover bloque desde 3 a 1\n",
      "Mover bloque desde 2 a 3\n",
      "Mover bloque desde 1 a 2\n",
      "Mover bloque desde 1 a 3\n",
      "Mover bloque desde 2 a 3\n"
     ]
    }
   ],
   "source": [
    "def torres_hanoi(N, origen, destino, pivote):\n",
    "    if N==1:\n",
    "        print(f\"Mover bloque desde {origen} a {destino}\")\n",
    "        return\n",
    "    \n",
    "    torres_hanoi(N-1, origen, pivote, destino)\n",
    "    print(f\"Mover bloque desde {origen} a {destino}\")\n",
    "    torres_hanoi(N-1, pivote, destino, origen)\n",
    "    \n",
    "torres_hanoi(4,1,3,2)"
   ]
  },
  {
   "cell_type": "code",
   "execution_count": 43,
   "id": "9d3334e7",
   "metadata": {},
   "outputs": [],
   "source": [
    "def cambio_moneda(cantidad, sistema):\n",
    "    solucion = [0 for i in range(len(sistema))]\n",
    "    i=0\n",
    "    while(cantidad > 0):\n",
    "        if i >= len(sistema):\n",
    "            print(f\"falta {cantidad} por devolver\")\n",
    "            return solucion\n",
    "        if int(cantidad/sistema[i])>0:\n",
    "            solucion[i] = solucion[i] + int(cantidad/sistema[i])\n",
    "            cantidad = cantidad % sistema[i]\n",
    "            i=i+1\n",
    "        else:\n",
    "            i=i+1\n",
    "\n",
    "    \n",
    "    return solucion"
   ]
  },
  {
   "cell_type": "code",
   "execution_count": 44,
   "id": "aec926b3",
   "metadata": {},
   "outputs": [
    {
     "name": "stdout",
     "output_type": "stream",
     "text": [
      "falta 4 por devolver\n"
     ]
    },
    {
     "data": {
      "text/plain": [
       "[2, 0, 0]"
      ]
     },
     "execution_count": 44,
     "metadata": {},
     "output_type": "execute_result"
    }
   ],
   "source": [
    "cambio_moneda(54, [25,10,5])"
   ]
  },
  {
   "cell_type": "code",
   "execution_count": 54,
   "id": "633fd85a",
   "metadata": {},
   "outputs": [],
   "source": [
    "import math\n",
    "import numpy as np\n",
    "def puntos_cercanos_multidim(lista):\n",
    "    lista = np.sort(lista, axis=0)\n",
    "    if len(lista) == 2:\n",
    "        distancia = 0\n",
    "        for i in range(len(lista[0])):\n",
    "            distancia = distancia + (lista[0][i]-lista[1][i])**2\n",
    "        distancia = math.sqrt(distancia)\n",
    "        return (lista, distancia)\n",
    "    if len(lista) == 1:\n",
    "        return (lista, math.inf)\n",
    "    else:\n",
    "        izquierda = puntos_cercanos(lista[:int(len(lista)/2)])\n",
    "        derecha = puntos_cercanos(lista[int(len(lista)/2):int(len(lista))])\n",
    "        if izquierda[1] > derecha[1]:\n",
    "            return derecha\n",
    "        else:\n",
    "            return izquierda\n",
    "        "
   ]
  },
  {
   "cell_type": "code",
   "execution_count": 55,
   "id": "6973c6ad",
   "metadata": {},
   "outputs": [
    {
     "data": {
      "text/plain": [
       "(array([[943976, 951622, 952293, 949402],\n",
       "        [944095, 951741, 952366, 949462]]),\n",
       " 193.00518127760196)"
      ]
     },
     "execution_count": 55,
     "metadata": {},
     "output_type": "execute_result"
    }
   ],
   "source": [
    "import random\n",
    "lista = [(random.randrange(1,1000000), random.randrange(1,1000000), random.randrange(1,1000000), random.randrange(1,1000000)) for x in range (1000)]\n",
    "\n",
    "puntos_cercanos_multidim(lista)"
   ]
  }
 ],
 "metadata": {
  "kernelspec": {
   "display_name": "Python 3 (ipykernel)",
   "language": "python",
   "name": "python3"
  },
  "language_info": {
   "codemirror_mode": {
    "name": "ipython",
    "version": 3
   },
   "file_extension": ".py",
   "mimetype": "text/x-python",
   "name": "python",
   "nbconvert_exporter": "python",
   "pygments_lexer": "ipython3",
   "version": "3.11.0"
  }
 },
 "nbformat": 4,
 "nbformat_minor": 5
}
